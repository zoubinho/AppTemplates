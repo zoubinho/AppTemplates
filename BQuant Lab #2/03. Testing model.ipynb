{
 "cells": [
  {
   "cell_type": "markdown",
   "metadata": {
    "deletable": true,
    "editable": true
   },
   "source": [
    "# Testing the model data\n",
    "We'll import the `model.py` file and test the different methods we have created."
   ]
  },
  {
   "cell_type": "code",
   "execution_count": null,
   "metadata": {
    "collapsed": true,
    "deletable": true,
    "editable": true
   },
   "outputs": [],
   "source": [
    "import model"
   ]
  },
  {
   "cell_type": "markdown",
   "metadata": {},
   "source": [
    "------\n",
    "<i>*Tip*: when a model is loaded in the current instance of the notebook, re-importing the same model has no effect. <br/>\n",
    "As such, if some modification would happen in the module, you would need to restart the kernel.  <br/>\n",
    "**The alternative** to reload the kernel is to use `importlib` module that free and reload a given module.</i>"
   ]
  },
  {
   "cell_type": "code",
   "execution_count": null,
   "metadata": {
    "collapsed": false
   },
   "outputs": [],
   "source": [
    "# for debugging purpose\n",
    "import importlib\n",
    "importlib.reload(model)"
   ]
  },
  {
   "cell_type": "markdown",
   "metadata": {},
   "source": [
    "---------\n",
    "In order to test a `DataModel` instance, we'll need to pass it a `query` and its associated `asset_class`."
   ]
  },
  {
   "cell_type": "code",
   "execution_count": null,
   "metadata": {
    "collapsed": true,
    "deletable": true,
    "editable": true
   },
   "outputs": [],
   "source": [
    "bond_issuance = '''\n",
    "    let(#amt=sum(group(amt_outstanding(currency='USD'),[year(announce_date()), month(announce_date()),cntry_of_risk()]))/1000000;) \n",
    "    get(#amt) \n",
    "    for( filter(members('LEGATRUU index'), announce_date() >= '2010-01-01') ) \n",
    "'''\n",
    "\n",
    "m = model.DataModel(query=bond_issuance, asset_class='Fixed Income')"
   ]
  },
  {
   "cell_type": "markdown",
   "metadata": {
    "deletable": true,
    "editable": true
   },
   "source": [
    "Let's run this instance of our DataModel that we initiated for fixed income. <br/>\n",
    "Running this line will run the BQL query (initialization + data download). Note that nothing will come out from this method. \n",
    "\n",
    "<img src=\"img/04_kernel_busy.png\" />"
   ]
  },
  {
   "cell_type": "code",
   "execution_count": null,
   "metadata": {
    "collapsed": false,
    "deletable": true,
    "editable": true,
    "scrolled": true
   },
   "outputs": [],
   "source": [
    "m.run()"
   ]
  },
  {
   "cell_type": "markdown",
   "metadata": {},
   "source": [
    "Once the model has done retrieving the dataset, the kernel should be ready and be display as per below:\n",
    "\n",
    "<img src=\"img/05_kernel_ready.png\" />\n",
    "\n",
    "Now, running the `build_2dim_dataset()` method should display the data."
   ]
  },
  {
   "cell_type": "code",
   "execution_count": null,
   "metadata": {
    "collapsed": false,
    "deletable": true,
    "editable": true
   },
   "outputs": [],
   "source": [
    "m.build_2dim_dataset(m.data, x='Month', y='Year', v='Amount Out', calc_type='sum')"
   ]
  },
  {
   "cell_type": "markdown",
   "metadata": {
    "deletable": true,
    "editable": true
   },
   "source": [
    "---------\n",
    "Let's test the equity dataset."
   ]
  },
  {
   "cell_type": "code",
   "execution_count": null,
   "metadata": {
    "collapsed": true,
    "deletable": true,
    "editable": true
   },
   "outputs": [],
   "source": [
    "equity_score = '''\n",
    "    let(#ret1m = (product(dropna(1.0+day_to_day_total_return(start=-1m,end=0d)))-1)*100;\n",
    "        #ret1m_idx = value(#ret1m,['BWORLD Index']);\n",
    "        #rel_ret1m = #ret1m - #ret1m_idx;\n",
    "        #avg_rel_ret = avg(group(#rel_ret1m,[country_full_name(),gics_sector_name()]));)\n",
    "    get(#avg_rel_ret)\n",
    "    for( members('BWORLD Index'))\n",
    "'''\n",
    "\n",
    "n = model.DataModel(query=equity_score, asset_class='Equity')\n",
    "n.run()"
   ]
  },
  {
   "cell_type": "code",
   "execution_count": null,
   "metadata": {
    "collapsed": true,
    "deletable": true,
    "editable": true
   },
   "outputs": [],
   "source": [
    "m.build_2dim_dataset(n.data, x='Sector', y='Country', v='1m return', calc_type='median')"
   ]
  },
  {
   "cell_type": "code",
   "execution_count": null,
   "metadata": {
    "collapsed": true
   },
   "outputs": [],
   "source": []
  }
 ],
 "metadata": {
  "input_collapsed": false,
  "kernelspec": {
   "display_name": "Python 3 (sandboxed)",
   "language": "python",
   "name": "python3"
  },
  "language_info": {
   "codemirror_mode": {
    "name": "ipython",
    "version": 3
   },
   "file_extension": ".py",
   "mimetype": "text/x-python",
   "name": "python",
   "nbconvert_exporter": "python",
   "pygments_lexer": "ipython3",
   "version": "3.5.5"
  }
 },
 "nbformat": 4,
 "nbformat_minor": 2
}
