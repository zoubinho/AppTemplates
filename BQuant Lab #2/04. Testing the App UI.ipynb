{
 "cells": [
  {
   "cell_type": "markdown",
   "metadata": {
    "deletable": true,
    "editable": true
   },
   "source": [
    "# Building the App\n",
    "We'll create widgets to let the user interact with the Ap. <br>\n",
    "\n",
    "<img src=\"img/07_header_app.png\" />\n",
    "\n",
    "In order to run a `DataModel` instance, we'll define several inputs that the user will be customizing to request one instance of the dataset.<br>\n",
    "* a `bqwidget` named `TickerAutoComplete` to select a universe\n",
    "* a `Dropdown` object to select the date.\n",
    "* a `Button` to trigger a data request\n",
    "\n",
    "Note that we will store the widgets in a dictionary to facitilate their access."
   ]
  },
  {
   "cell_type": "code",
   "execution_count": null,
   "metadata": {
    "collapsed": true,
    "deletable": true,
    "editable": true
   },
   "outputs": [],
   "source": [
    "from bqwidgets import TickerAutoComplete\n",
    "import ipywidgets\n",
    "\n",
    "widgets = dict()"
   ]
  },
  {
   "cell_type": "code",
   "execution_count": null,
   "metadata": {
    "collapsed": false,
    "deletable": true,
    "editable": true,
    "scrolled": true
   },
   "outputs": [],
   "source": [
    "# universe picker definition\n",
    "widgets['universe_select'] = TickerAutoComplete(description='Select universe:', \n",
    "                                                          yellow_keys=['Index'],\n",
    "                                                          style={'description_width':'initial'})"
   ]
  },
  {
   "cell_type": "code",
   "execution_count": null,
   "metadata": {
    "collapsed": false,
    "deletable": true,
    "editable": true,
    "scrolled": true
   },
   "outputs": [],
   "source": [
    "# period dorpdown selector\n",
    "widgets['period_select'] = ipywidgets.Dropdown(description='Period:', \n",
    "                                               options=['2010-01-01','2014-01-01'])  # for fixed income request\n",
    "                                               #options=['1m','3m','6m','12m']) # for equity request"
   ]
  },
  {
   "cell_type": "markdown",
   "metadata": {
    "deletable": true,
    "editable": true
   },
   "source": [
    "### Header box\n",
    "To facilitate the display of the controls, we'll embed the widgets into a combination of boxes."
   ]
  },
  {
   "cell_type": "code",
   "execution_count": null,
   "metadata": {
    "collapsed": false,
    "deletable": true,
    "editable": true
   },
   "outputs": [],
   "source": [
    "# App title definition\n",
    "widgets['app_title'] = ipywidgets.HTML('<h1>Heatmap</h1>')\n",
    "\n",
    "# Button definition\n",
    "button_run = ipywidgets.Button(description='Run', button_style='info')\n",
    "\n",
    "# creation of the control box with the header\n",
    "widgets['header'] = ipywidgets.VBox([widgets['app_title'],\n",
    "                                     ipywidgets.HBox([widgets['universe_select'], widgets['period_select'], button_run]), \n",
    "                                    ])\n",
    "widgets['header']"
   ]
  },
  {
   "cell_type": "markdown",
   "metadata": {
    "deletable": true,
    "editable": true
   },
   "source": [
    "-----------\n",
    "Now, we'll link the inputs from the user to the query sent to the `DataModel`.<br/>\n",
    "Let's reformat the BQL query string based on the user inputs. "
   ]
  },
  {
   "cell_type": "code",
   "execution_count": null,
   "metadata": {
    "collapsed": false,
    "deletable": true,
    "editable": true
   },
   "outputs": [],
   "source": [
    "import model"
   ]
  },
  {
   "cell_type": "code",
   "execution_count": null,
   "metadata": {
    "collapsed": false,
    "deletable": true,
    "editable": true
   },
   "outputs": [],
   "source": [
    "# set default values to widgets for bond request:\n",
    "widgets['universe_select'].value = 'LEGATRUU Index'\n",
    "widgets['period_select'].value = '2010-01-01'\n",
    "\n",
    "bond_issuance = '''\n",
    "    let(#amt=sum(group(amt_outstanding(currency='USD'),[year(announce_date()), month(announce_date()),cntry_of_risk()]))/1000000;) \n",
    "    get(#amt) \n",
    "    for( filter(members('{idx}'), announce_date() >= '{date}') ) \n",
    "'''.format(idx=widgets['universe_select'].value,\n",
    "           date=widgets['period_select'].value)\n",
    "\n",
    "bond_issuance"
   ]
  },
  {
   "cell_type": "markdown",
   "metadata": {
    "deletable": true,
    "editable": true
   },
   "source": [
    "Now, the query is updated when user selects the inputs. <br>\n",
    "Let's run this instance of our `DataModel` when we click on the button. "
   ]
  },
  {
   "cell_type": "code",
   "execution_count": null,
   "metadata": {
    "collapsed": false,
    "deletable": true,
    "editable": true,
    "scrolled": true
   },
   "outputs": [],
   "source": [
    "data = None\n",
    "def _refresh_data(caller):\n",
    "    global data\n",
    "    # setup the query upon a click\n",
    "    query = '''\n",
    "        let(#amt=sum(group(amt_outstanding(currency='USD'),[year(announce_date()), month(announce_date()),cntry_of_risk()]))/1000000;) \n",
    "        get(#amt) \n",
    "        for( filter(members('{idx}'), announce_date() >= '{date}') ) \n",
    "    '''.format(idx=widgets['universe_select'].value,\n",
    "               date=widgets['period_select'].value)\n",
    "    \n",
    "    # initialize the data model\n",
    "    m = model.DataModel(query, asset_class='Fixed Income')\n",
    "    m.run()\n",
    "    \n",
    "    # retrieve the data to be displayed\n",
    "    data = m.build_2dim_dataset(m.data, x='Month', y='Year', v='Amount Out', calc_type='sum')\n",
    "    \n",
    "    # print logger\n",
    "    print('Data refreshed.')\n",
    "    \n",
    "\n",
    "button_run.on_click(_refresh_data)"
   ]
  },
  {
   "cell_type": "markdown",
   "metadata": {
    "deletable": true,
    "editable": true
   },
   "source": [
    "Scroll up and click on the blue button to trigger the refresh. <br/>\n",
    "The kernel will get busy while fetching the data. \n",
    "<img src=\"img/04_kernel_busy.png\" />\n",
    "\n",
    "If everything goes well, you should see the following message.<br/>\n",
    "<img src=\"img/08_data_refreshed.png\" />\n",
    "\n",
    "-----------\n",
    "\n",
    "Now, we'll build a function that will create a heatmap object, called `GridHeatMap` from the `bqwidgets` library."
   ]
  },
  {
   "cell_type": "code",
   "execution_count": null,
   "metadata": {
    "collapsed": true,
    "deletable": true,
    "editable": true
   },
   "outputs": [],
   "source": [
    "from bqplot import OrdinalScale, ColorScale, GridHeatMap, Axis, Figure\n",
    "\n",
    "def _build_heatmap(df):\n",
    "    # create the scales \n",
    "    x_sc, y_sc, col_sc = OrdinalScale(), OrdinalScale(reverse=True), ColorScale(scheme='RdYlGr')\n",
    "        \n",
    "    # building the marks for the heatmap\n",
    "    grid_map = GridHeatMap(row=df.index, column=df.columns, color=df, \n",
    "                           scales={'column': x_sc, 'row': y_sc, 'color': col_sc},\n",
    "                           stroke='transparent', null_color='transparent',\n",
    "                           selected_style={'opacity': 1.0}, unselected_style={'opacity': 0.4})\n",
    "\n",
    "    # create the axis \n",
    "    ax_x, ax_y = Axis(scale=x_sc, grid_lines='none', label=df.columns.name), \\\n",
    "                 Axis(scale=y_sc, grid_lines='none', label=df.index.name, orientation='vertical')\n",
    "\n",
    "    # generating the figure\n",
    "    grid_ui = Figure(marks=[grid_map], axes=[ax_x, ax_y], padding_y=0.0, \n",
    "                     title='{} distribution'.format(widgets['universe_select'].value),\n",
    "                     fig_margin={'bottom': 35, 'left': 150, 'right': 10, 'top': 60},\n",
    "                     layout={'width':'100%', 'height':'400px'})\n",
    "\n",
    "    # define the output object to get displayed\n",
    "    return ipywidgets.VBox([grid_ui], \n",
    "                            layout={'width':'99%', 'min_height':'400px', 'overflow_x':'hidden'})\n"
   ]
  },
  {
   "cell_type": "code",
   "execution_count": null,
   "metadata": {
    "collapsed": false,
    "deletable": true,
    "editable": true
   },
   "outputs": [],
   "source": [
    "_build_heatmap(data)"
   ]
  },
  {
   "cell_type": "markdown",
   "metadata": {
    "deletable": true,
    "editable": true
   },
   "source": [
    "--------\n",
    "## Generating the `app.py` file\n",
    "\n",
    "Now we have all the necessary methods, you will create a file that store all these methods into a `Heatmap` class. <br/>\n",
    "\n",
    "<img src=\"img/09_build_app_file.png\" />"
   ]
  },
  {
   "cell_type": "code",
   "execution_count": null,
   "metadata": {
    "collapsed": true,
    "deletable": true,
    "editable": true
   },
   "outputs": [],
   "source": []
  }
 ],
 "metadata": {
  "input_collapsed": false,
  "kernelspec": {
   "display_name": "Python 3 (sandboxed)",
   "language": "python",
   "name": "python3"
  },
  "language_info": {
   "codemirror_mode": {
    "name": "ipython",
    "version": 3
   },
   "file_extension": ".py",
   "mimetype": "text/x-python",
   "name": "python",
   "nbconvert_exporter": "python",
   "pygments_lexer": "ipython3",
   "version": "3.5.5"
  }
 },
 "nbformat": 4,
 "nbformat_minor": 2
}
