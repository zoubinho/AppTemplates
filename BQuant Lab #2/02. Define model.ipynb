{
 "cells": [
  {
   "cell_type": "markdown",
   "metadata": {
    "collapsed": true,
    "deletable": true,
    "editable": true
   },
   "source": [
    "# Model notebook\n",
    "This notebook will be used to download data from BQL and fine-tune the data sets to match our requirements.\n",
    "\n",
    "## Quick Intro to BQL\n",
    "\n",
    "BQL is a new API based on normalized, curated, point-in-time data. Using BQL, you can perform custom calculations directly in the Bloomberg Cloud. Specify the data you want and the calculation you want to perform—including, but not limited to, arithmetic and statistical operations, filtering, grouping, scoring, and dates-based analysis—so you can synthesize large amounts of data and extract the exact information you need.\n",
    "\n",
    "In a single BQL query, you construct a universe of tickers (such as a list of peers) and define the data you want (such as earnings per share). You can apply analysis and calculations on the data directly on the server side, such as calculating an average or multiplying two values. You can also add optional parameters that fit the data to your model, such as the time period (if you want historical data) and currency (if you want to convert it).\n",
    "\n",
    "See more details on [BQLX](https://blinks.bloomberg.com/screens/BQLX).\n",
    "\n",
    "__TLDR__: BQL is the Bloomberg data source for our BQuant apps!"
   ]
  },
  {
   "cell_type": "code",
   "execution_count": null,
   "metadata": {
    "collapsed": true,
    "deletable": true,
    "editable": true
   },
   "outputs": [],
   "source": [
    "# Mandatory libraries\n",
    "import pandas as pd\n",
    "import numpy as np\n",
    "from collections import OrderedDict\n",
    "import bql"
   ]
  },
  {
   "cell_type": "markdown",
   "metadata": {
    "deletable": true,
    "editable": true
   },
   "source": [
    "`bq` will be our BQL service object to load metadata and execute BQL queries"
   ]
  },
  {
   "cell_type": "code",
   "execution_count": null,
   "metadata": {
    "collapsed": true,
    "deletable": true,
    "editable": true
   },
   "outputs": [],
   "source": [
    "bq = None"
   ]
  },
  {
   "cell_type": "markdown",
   "metadata": {
    "deletable": true,
    "editable": true
   },
   "source": [
    "Let's create a `_init_bql()` method to initialize the BQL service. This is useful to set it once for all during the life time of our App, to avoid restarting a new BQL connection every time a request is made. \n",
    "\n",
    "Note that we will use the below to interact with `bq` object while we are in this notebook. This will no longer be useful when building the App itself.\n",
    "```python \n",
    "global bq\n",
    "```"
   ]
  },
  {
   "cell_type": "code",
   "execution_count": null,
   "metadata": {
    "collapsed": true,
    "deletable": true,
    "editable": true
   },
   "outputs": [],
   "source": [
    "# construct a function to start BQL service\n",
    "def _init_bql():\n",
    "    global bq\n",
    "    \"\"\"Loads self._bq from class-level shared BQL instance if no instance is available yet.\n",
    "    Class-level shared BQL instance would be initialized if needed.\n",
    "    \"\"\"\n",
    "    if bq is None:\n",
    "        bq = bql.Service()\n",
    "        "
   ]
  },
  {
   "cell_type": "markdown",
   "metadata": {
    "deletable": true,
    "editable": true
   },
   "source": [
    "Test the connection."
   ]
  },
  {
   "cell_type": "code",
   "execution_count": null,
   "metadata": {
    "collapsed": false,
    "deletable": true,
    "editable": true
   },
   "outputs": [],
   "source": [
    "# initialize BQL service\n",
    "_init_bql()"
   ]
  },
  {
   "cell_type": "markdown",
   "metadata": {
    "deletable": true,
    "editable": true
   },
   "source": [
    "## Query retrieval methods\n",
    "Whether we want to retrieve equity or fixed income data, we need to create a `get_data` function. <br/>\n",
    "For conveniency, we will set an option based on the asset class queried, and allow to retrieve Bloomberg data via the query mode.<br/>\n",
    "\n",
    "To do this, we will build 3 methods:\n",
    "* `_get_data(query)` that retrieves data model based on the query string that is passed to it. Output is a DataFrame to be used in the `DatModel` for further manipulation. \n",
    "* `_combine_dfs(response)` that will combine every item retrieved as singular dataframe from BQL. Output is the raw data from BQL.\n",
    "* `_yield_raw_df(df, asset_class)` that will render the raw dataframe into a manipulated table to fit in the App visuals."
   ]
  },
  {
   "cell_type": "code",
   "execution_count": null,
   "metadata": {
    "collapsed": false,
    "deletable": true,
    "editable": true
   },
   "outputs": [],
   "source": [
    "def _get_data(query):\n",
    "    \"\"\"\n",
    "    Retrieve data model based on the universe and the BQL items\n",
    "    Inputs:\n",
    "    - query (str): BQL query string to be requested.\n",
    "    \"\"\"\n",
    "    try:\n",
    "        # add mode=cached for queries involving asset class universe screening\n",
    "        query = '{} with(mode=cached)'.format(query)\n",
    "        \n",
    "        # request the query string\n",
    "        r = bq.execute(query)\n",
    "\n",
    "        # store the whole dataset in data\n",
    "        data = _combine_dfs(r)\n",
    "\n",
    "    except Exception as e:\n",
    "        print('Error while fetching data ({})'.format(e))\n",
    "        data = pd.DataFrame()\n",
    "\n",
    "    return data\n",
    "\n",
    "\n",
    "def _combine_dfs(response):\n",
    "    \"\"\"\n",
    "    Concatenate in a DataFrame all the response (per column item) from BQL\n",
    "    Inputs:\n",
    "    - response (DataFrame): dataframe that contains the Bloomberg data\n",
    "    retrieved via BQL without some dropped items\n",
    "    \"\"\"\n",
    "    data = []\n",
    "    drop_items = ['REVISION_DATE','AS_OF_DATE','PERIOD_END_DATE','CURRENCY','Partial Errors']\n",
    "    for r in response:\n",
    "        df = r.df().drop(drop_items, axis='columns', errors='ignore')\n",
    "        data.append(df)\n",
    "    return pd.concat(data, axis=1).reset_index()\n",
    "    \n",
    "    \n",
    "def _yield_raw_df(df, asset_class):\n",
    "    \"\"\"\n",
    "    Retrieve data model based on the universe and the BQL items\n",
    "    Inputs:\n",
    "    - df (DataFrame): dataframe that contains the Bloomberg data\n",
    "    retrieved via BQL.\n",
    "    - asset_class (str): asset class string working as a switch \n",
    "    to handle the data manipulation after retrieval.\n",
    "    \"\"\"\n",
    "    if asset_class == 'Fixed Income':\n",
    "        # trim the index and build additional columns used for pivoting tables\n",
    "        col_mapping = {'YEAR(ANNOUNCE_DATE())':'Year',\n",
    "                       'MONTH(ANNOUNCE_DATE())':'Month',\n",
    "                       '#amt':'Amount Out',\n",
    "                       'CNTRY_OF_RISK()':'Country'}\n",
    "        df.rename(columns=col_mapping, inplace=True)\n",
    "\n",
    "        # create the Year, Month and Announce Date columns:\n",
    "        df['Year'] = df['Year'].astype('str').apply(lambda x: x.split('.')[0])\n",
    "        df['Month'] = df['Month'].astype('str').apply(lambda x: '{:02d}'.format(int(x.split('.')[0])))\n",
    "        df['Announce Date'] = df.apply(lambda x: '{}-{:02d}'.format(x['Year'],int(x['Month'])), axis=1)\n",
    "\n",
    "        \n",
    "    elif asset_class == 'Equity':\n",
    "        # rename the columns to a more readable content\n",
    "        col_mapping = {'COUNTRY_FULL_NAME()':'Country',\n",
    "                       'GICS_SECTOR_NAME()':'Sector',\n",
    "                       '#avg_rel_ret':'1m return'}\n",
    "        df.rename(columns=col_mapping, inplace=True)\n",
    "        \n",
    "    else:\n",
    "        print('Not Implemented')\n",
    "        \n",
    "    # mask NullGroup\n",
    "    maskNullGroup = df.apply(lambda x: 'NullGroup' not in x.ID.split(':'), axis=1)\n",
    "    df = df[maskNullGroup]\n",
    "    df = df[df['Country'] != 'NA']\n",
    "    \n",
    "    return df"
   ]
  },
  {
   "cell_type": "markdown",
   "metadata": {
    "deletable": true,
    "editable": true
   },
   "source": [
    "-------\n",
    "## Query definition\n",
    "We are using raw query to simplify the data acquisition implementation part. <br>\n",
    "<i>Note that this can be transformed to be using the BQL data model. </i>\n",
    "\n",
    "Based on the asset class you are interested in, you can load the \n",
    "* `bond_issuance` variable that will download the debt issued in USD since 01 Jan 2010 for all the bonds in the Bloomberg Barclays Global-Aggregate Total Return Index, or;\n",
    "* `equity_score` variable will build a composite score for every stock and display them by sector and country for the MSCI ex Asia."
   ]
  },
  {
   "cell_type": "code",
   "execution_count": null,
   "metadata": {
    "collapsed": true,
    "deletable": true,
    "editable": true
   },
   "outputs": [],
   "source": [
    "bond_issuance = '''\n",
    "    let(#amt=sum(group(amt_outstanding(currency='USD'),[year(announce_date()), month(announce_date()),cntry_of_risk()]))/1000000;) \n",
    "    get(#amt) \n",
    "    for( filter(members('LEGATRUU index'), announce_date() >= '2010-01-01') ) \n",
    "'''\n",
    "\n",
    "equity_score = '''\n",
    "    let(#ret1m = (product(dropna(1.0+day_to_day_total_return(start=-1m,end=0d)))-1)*100;\n",
    "        #ret1m_idx = value(#ret1m,['BWORLD Index']);\n",
    "        #rel_ret1m = #ret1m - #ret1m_idx;\n",
    "        #avg_rel_ret = avg(group(#rel_ret1m,[country_full_name(),gics_sector_name()]));)\n",
    "    get(#avg_rel_ret)\n",
    "    for( members('BWORLD Index'))\n",
    "'''"
   ]
  },
  {
   "cell_type": "markdown",
   "metadata": {
    "deletable": true,
    "editable": true
   },
   "source": [
    "### 1. Fixed income query retrieval first\n",
    "Let's fetch fixed income data first."
   ]
  },
  {
   "cell_type": "code",
   "execution_count": null,
   "metadata": {
    "collapsed": false,
    "deletable": true,
    "editable": true,
    "scrolled": true
   },
   "outputs": [],
   "source": [
    "# get data from `bond_issuance` query\n",
    "raw_data = _get_data(bond_issuance)\n",
    "# render the data in a readable format for the visuals\n",
    "data = _yield_raw_df(raw_data, 'Fixed Income')\n",
    "# display the bottom entries of the dataframe\n",
    "data.tail()"
   ]
  },
  {
   "cell_type": "markdown",
   "metadata": {
    "deletable": true,
    "editable": true
   },
   "source": [
    "Now we will create a function to pivot the data in such a way we will be providing our heatmap object with.<br/>\n",
    "To that end, we will create the method `build_2dim_dataset` and we will reference the `x`-axis, `y`-axis, and `v` values to pivot the table accordingly. We will also mention the type of calculation for each cell, as bond issuance calculation will provide the sum of all the amount outstanding, and the equity returns by sector will be given as a median. "
   ]
  },
  {
   "cell_type": "code",
   "execution_count": null,
   "metadata": {
    "collapsed": false,
    "deletable": true,
    "editable": true
   },
   "outputs": [],
   "source": [
    "def build_2dim_dataset(df, x='Month', y='Year', v='Amount Out', calc_type='sum'):\n",
    "    '''\n",
    "    Summary: returns a table in 2-dim with data transformed and \n",
    "    aggregated by x and by y.\n",
    "    Inputs:\n",
    "        - df (DataFrame): dataframe that contains the BQL data cleaned \n",
    "        - x (str): columns on which to pivot the table to represent the x-axis\n",
    "        - y (str): columns on which to pivot the table to represent the y-axis\n",
    "        - calc_type (str): sum or median can be referred to aggregate the data\n",
    "    '''\n",
    "\n",
    "    # create the final dataframe\n",
    "    output = df.pivot_table(index=y, columns=x, values=v, aggfunc=calc_type)\n",
    "    \n",
    "    return output"
   ]
  },
  {
   "cell_type": "markdown",
   "metadata": {
    "deletable": true,
    "editable": true
   },
   "source": [
    "Let's have a look again at the names in the columns of the dataframe to setup the matrix data"
   ]
  },
  {
   "cell_type": "code",
   "execution_count": null,
   "metadata": {
    "collapsed": false,
    "deletable": true,
    "editable": true
   },
   "outputs": [],
   "source": [
    "data.columns"
   ]
  },
  {
   "cell_type": "markdown",
   "metadata": {
    "deletable": true,
    "editable": true
   },
   "source": [
    "We'll use then `Year` amd `Country` as the `x` and `y` axis. The values will be the amount outstanding. <br>\n",
    "Note that we can refer to the `calc_type` based on type of aggregated values we want to display in the matrix."
   ]
  },
  {
   "cell_type": "code",
   "execution_count": null,
   "metadata": {
    "collapsed": false,
    "deletable": true,
    "editable": true
   },
   "outputs": [],
   "source": [
    "build_2dim_dataset(data, x='Month', y='Year', v='Amount Out', calc_type='sum')"
   ]
  },
  {
   "cell_type": "markdown",
   "metadata": {
    "collapsed": true,
    "deletable": true,
    "editable": true
   },
   "source": [
    "### 2.Equity query retrieval\n",
    "Let's now fetch equity data."
   ]
  },
  {
   "cell_type": "code",
   "execution_count": null,
   "metadata": {
    "collapsed": false,
    "deletable": true,
    "editable": true
   },
   "outputs": [],
   "source": [
    "# get data from `equity_score` query, render the data and display the bottom of the dataframe\n",
    "raw_data2 = _get_data(equity_score)\n",
    "data2 = _yield_raw_df(raw_data2, 'Equity')\n",
    "data2.tail()"
   ]
  },
  {
   "cell_type": "code",
   "execution_count": null,
   "metadata": {
    "collapsed": false,
    "deletable": true,
    "editable": true
   },
   "outputs": [],
   "source": [
    "data.columns"
   ]
  },
  {
   "cell_type": "code",
   "execution_count": null,
   "metadata": {
    "collapsed": false,
    "deletable": true,
    "editable": true,
    "scrolled": false
   },
   "outputs": [],
   "source": [
    "# display the data as such as you get the sector in x-axis, the country in y-axis\n",
    "# and the 1m return change as values\n",
    "build_2dim_dataset(data2, x='Sector', y='Country', v='1m return', calc_type='median')"
   ]
  },
  {
   "cell_type": "markdown",
   "metadata": {
    "collapsed": true,
    "deletable": true,
    "editable": true
   },
   "source": [
    "--------\n",
    "## Generating the `model.py` file\n",
    "\n",
    "Now we have all the necessary methods, you will create a file that store all these methods into a general `DataModel` class. <br/>\n",
    "\n",
    "<img src=\"img/06_build_model_file.png\" />"
   ]
  },
  {
   "cell_type": "code",
   "execution_count": null,
   "metadata": {
    "collapsed": true,
    "deletable": true,
    "editable": true
   },
   "outputs": [],
   "source": []
  }
 ],
 "metadata": {
  "kernelspec": {
   "display_name": "Python 3 (sandboxed)",
   "language": "python",
   "name": "python3"
  },
  "language_info": {
   "codemirror_mode": {
    "name": "ipython",
    "version": 3
   },
   "file_extension": ".py",
   "mimetype": "text/x-python",
   "name": "python",
   "nbconvert_exporter": "python",
   "pygments_lexer": "ipython3",
   "version": "3.5.5"
  }
 },
 "nbformat": 4,
 "nbformat_minor": 0
}
