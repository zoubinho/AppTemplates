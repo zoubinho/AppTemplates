{
 "cells": [
  {
   "cell_type": "markdown",
   "metadata": {
    "collapsed": true,
    "deletable": true,
    "editable": true
   },
   "source": [
    "# BQuant Lab | Session #2\n",
    "## App Building\n",
    "\n",
    "Objective of this session is to build a heatmap using the tools that BQuant Platform can provide. \n",
    "\n",
    "<img src=\"img/01_heatmap_app.png\" style=\"width: 100%; max-width: 1000px;\" />\n",
    "\n",
    "We'll split the App creation into 2 parts:\n",
    "* definition of the `DataModel`, responsible for the data acquisition\n",
    "* definition of the `App`, where all the graphics and the user interaction goes.\n",
    "\n",
    "\n",
    "Note that we will use a <a href=\"https://www.wikiwand.com/en/Model%E2%80%93view%E2%80%93controller\">MVC framework</a> (Model-View-Controller) to best implement this Application. \n",
    "\n",
    "<table border=\"0\">\n",
    "<tr><td><img src=\"img/02_MVC-Process.png\" style=\"width: 320px; height: 350px; background-color:white;\" /></td>\n",
    "    <td>We'll adapt this framework <br>to design our App as per follows:</td>\n",
    "    <td><img src=\"img/03_MVC-Process_BQNT.png\" style=\"width: 320px; height: 350px; background-color:white;\" /></td>\n",
    "</tr>\n",
    "</table>\n",
    "\n",
    "\n"
   ]
  },
  {
   "cell_type": "markdown",
   "metadata": {
    "deletable": true,
    "editable": true
   },
   "source": [
    "## Content\n",
    "\n",
    "As we will go over this step-by-step, you will be going over the following procedure:\n",
    "\n",
    "* `02. Define model.ipynb`: you will first go through the data acquisition with a concrete example for Fixed Income and one for Equity.<br/>\n",
    "At the end of this notebook, you will have retrieved the necessary data to build our heatmap, and build a specific method to yield the data the way we need for the heatmap.\n",
    "\n",
    "* `03. Testing model.ipynb`: you will test the content stored into a .py file for modularity purposes. <br/>\n",
    "At the end of this model, you will have created a `model.py` file that will store the necessary requests for your `DataModel`.\n",
    "\n",
    "\n",
    "### We'll reiterate this for the visuals:\n",
    "* `04. Testing the App UI.ipynb`: you will implement some general graphical interface setup.<br/>\n",
    "The necessary input objects to guarantee enough interactivity for the end-user. This will include a label, a dropdown, a button, a ticker autocomplete objects. \n",
    "\n",
    "* `05. Main App.ipynb`: this notebook will hold the final App version. <br/>\n",
    "This light notebook will be calling `app.py` to initialize the main interface. "
   ]
  }
 ],
 "metadata": {
  "kernelspec": {
   "display_name": "Python 3 (sandboxed)",
   "language": "python",
   "name": "python3"
  },
  "language_info": {
   "codemirror_mode": {
    "name": "ipython",
    "version": 3
   },
   "file_extension": ".py",
   "mimetype": "text/x-python",
   "name": "python",
   "nbconvert_exporter": "python",
   "pygments_lexer": "ipython3",
   "version": "3.5.5"
  }
 },
 "nbformat": 4,
 "nbformat_minor": 0
}
